{
 "cells": [
  {
   "cell_type": "markdown",
   "id": "98032287-0e43-4272-a104-c3f6736c200d",
   "metadata": {},
   "source": [
    "# Direct Collocation for Level Flight with Turns\n",
    "\n",
    "This notebook explores using direct collocation to optimize the velocity along a trajectory in level flight.\n",
    "\n",
    "Ingredients:\n",
    "- A trajectory (we'll use Muhammad's code for this)\n",
    "- Airplane dynamics\n",
    "- Direct collocation, supplied by Drake\n",
    "\n",
    "Let's start with the definition of a trajectory."
   ]
  },
  {
   "cell_type": "code",
   "execution_count": null,
   "id": "e0dc7b6e-ecc6-46f6-bc77-9a82e0809dfa",
   "metadata": {},
   "outputs": [],
   "source": []
  }
 ],
 "metadata": {
  "kernelspec": {
   "display_name": "Python 3 (ipykernel)",
   "language": "python",
   "name": "python3"
  },
  "language_info": {
   "codemirror_mode": {
    "name": "ipython",
    "version": 3
   },
   "file_extension": ".py",
   "mimetype": "text/x-python",
   "name": "python",
   "nbconvert_exporter": "python",
   "pygments_lexer": "ipython3",
   "version": "3.10.12"
  }
 },
 "nbformat": 4,
 "nbformat_minor": 5
}
