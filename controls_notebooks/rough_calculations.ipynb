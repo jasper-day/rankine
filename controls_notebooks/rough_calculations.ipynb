{
 "cells": [
  {
   "cell_type": "markdown",
   "id": "5053cc69-4ecf-4cbb-8c09-dc70ad8c02ef",
   "metadata": {},
   "source": [
    "# Endurance and Range Calculations\n",
    "\n",
    "Design parameters:\n",
    "\n",
    "- m is the plane mass\n",
    "- S is the wing surface area\n",
    "- P is the battery power available (V * A)\n",
    "- eta_pr, eta_m are the motor and propeller efficiencies\n",
    "- CD0 is the zero lift drag coefficient\n",
    "- K is the induced drag coefficient (CD = CD0 + K CL^2)\n",
    "- CL,max is the maximum lift coefficient"
   ]
  },
  {
   "cell_type": "code",
   "execution_count": 1,
   "id": "0da67fc2-499f-4fe4-9272-af6ddda4723d",
   "metadata": {},
   "outputs": [],
   "source": [
    "# constants\n",
    "from pint import UnitRegistry \n",
    "ur = UnitRegistry()\n",
    "\n",
    "g = 9.81 * ur.m / ur.s**2\n",
    "rho = 1.23 * ur.kg / ur.m**3"
   ]
  },
  {
   "cell_type": "code",
   "execution_count": 2,
   "id": "7569c28c-569c-495d-a8d3-5b59f9c9a796",
   "metadata": {},
   "outputs": [
    {
     "data": {
      "text/plain": [
       "0.26"
      ]
     },
     "execution_count": 2,
     "metadata": {},
     "output_type": "execute_result"
    }
   ],
   "source": [
    "1.3**2 / 6.5"
   ]
  },
  {
   "cell_type": "code",
   "execution_count": 3,
   "id": "637e1d63-0fbf-4588-b5a8-e62cfe1d738f",
   "metadata": {},
   "outputs": [
    {
     "data": {
      "text/html": [
       "118.56 gram"
      ],
      "text/latex": [
       "$118.56\\ \\mathrm{gram}$"
      ],
      "text/plain": [
       "<Quantity(118.56, 'gram')>"
      ]
     },
     "execution_count": 3,
     "metadata": {},
     "output_type": "execute_result"
    }
   ],
   "source": [
    "(520e3 * ur.mm**3 ).to(ur.cm**3) * 1.14 * ur.g / ur.cm**3 * 0.2"
   ]
  },
  {
   "cell_type": "code",
   "execution_count": 4,
   "id": "f085a1b2-8722-4a38-afcf-2ea9671259a7",
   "metadata": {},
   "outputs": [
    {
     "data": {
      "text/html": [
       "636.25 gram"
      ],
      "text/latex": [
       "$636.25\\ \\mathrm{gram}$"
      ],
      "text/plain": [
       "<Quantity(636.25, 'gram')>"
      ]
     },
     "execution_count": 4,
     "metadata": {},
     "output_type": "execute_result"
    }
   ],
   "source": [
    "(271 + 320 + 270)*0.25*ur.g + 2 * 123 * ur.g + 175 * ur.g"
   ]
  },
  {
   "cell_type": "code",
   "execution_count": 5,
   "id": "290cb907-b374-4ee5-8359-3a9fbd9becca",
   "metadata": {},
   "outputs": [
    {
     "data": {
      "text/plain": [
       "1500.7537154989384"
      ]
     },
     "execution_count": 5,
     "metadata": {},
     "output_type": "execute_result"
    }
   ],
   "source": [
    "141371 / (3.14 * 30)"
   ]
  },
  {
   "cell_type": "code",
   "execution_count": 6,
   "id": "60bd44a9-c0dc-4b00-86fe-3662febd5734",
   "metadata": {},
   "outputs": [
    {
     "data": {
      "text/plain": [
       "0.4285714285714286"
      ]
     },
     "execution_count": 6,
     "metadata": {},
     "output_type": "execute_result"
    }
   ],
   "source": [
    "3.5 / (3.5 **2 / 1.5)"
   ]
  },
  {
   "cell_type": "code",
   "execution_count": 7,
   "id": "435eb09d-d62d-4c96-8e27-faa9204f1aeb",
   "metadata": {},
   "outputs": [
    {
     "name": "stdout",
     "output_type": "stream",
     "text": [
      "0.6449612403100775\n",
      "0.04392156862745098\n"
     ]
    }
   ],
   "source": [
    "# tail coefficients\n",
    "cht = 1.6 * 0.26 / (1.5 * 0.43 )\n",
    "cvt = 1.6 * 0.7 * 0.2 / (1.5 * 3.4)\n",
    "print(cht)\n",
    "print(cvt)"
   ]
  },
  {
   "cell_type": "code",
   "execution_count": 8,
   "id": "b8602048-a0f7-4f22-94df-85a7df38a931",
   "metadata": {},
   "outputs": [
    {
     "data": {
      "text/plain": [
       "810"
      ]
     },
     "execution_count": 8,
     "metadata": {},
     "output_type": "execute_result"
    }
   ],
   "source": [
    "270 * 3"
   ]
  },
  {
   "cell_type": "code",
   "execution_count": 9,
   "id": "18777b8f-4035-465c-a928-05420812a2d1",
   "metadata": {},
   "outputs": [
    {
     "data": {
      "text/html": [
       "0.2206585365853659 dimensionless"
      ],
      "text/latex": [
       "$0.2206585365853659\\ \\mathrm{dimensionless}$"
      ],
      "text/plain": [
       "<Quantity(0.220658537, 'dimensionless')>"
      ]
     },
     "execution_count": 9,
     "metadata": {},
     "output_type": "execute_result"
    }
   ],
   "source": [
    "# design lift coefficient\n",
    "(8.3 * 9.81 * ur.N / (1/2 * rho * (20 * ur.m / ur.s)**2 * 1.5 * ur.m**2)).to(\"\")"
   ]
  },
  {
   "cell_type": "code",
   "execution_count": 10,
   "id": "f50c1610-5afd-468c-ac11-990ea2264cfe",
   "metadata": {},
   "outputs": [
    {
     "data": {
      "text/plain": [
       "0.2568"
      ]
     },
     "execution_count": 10,
     "metadata": {},
     "output_type": "execute_result"
    }
   ],
   "source": [
    "1.2 * 0.214"
   ]
  },
  {
   "cell_type": "code",
   "execution_count": 11,
   "id": "cea14b98-c2c1-4c01-b349-15466640dde7",
   "metadata": {},
   "outputs": [
    {
     "data": {
      "text/plain": [
       "0.1757"
      ]
     },
     "execution_count": 11,
     "metadata": {},
     "output_type": "execute_result"
    }
   ],
   "source": [
    "0.7 * 0.251"
   ]
  },
  {
   "cell_type": "code",
   "execution_count": 12,
   "id": "2dfba74c-af4b-4ae3-93f2-5e2da61e3e76",
   "metadata": {},
   "outputs": [
    {
     "data": {
      "text/html": [
       "0.099 kilogram/meter<sup>2</sup>"
      ],
      "text/latex": [
       "$0.099\\ \\frac{\\mathrm{kilogram}}{\\mathrm{meter}^{2}}$"
      ],
      "text/plain": [
       "<Quantity(0.099, 'kilogram / meter ** 2')>"
      ]
     },
     "execution_count": 12,
     "metadata": {},
     "output_type": "execute_result"
    }
   ],
   "source": [
    "# linear wing density\n",
    "(33 * ur.kg / ur.m**3 * 3 * ur.mm).to(ur.kg/ur.m**2)"
   ]
  },
  {
   "cell_type": "code",
   "execution_count": 13,
   "id": "02a8ea04-1932-4b6c-b519-a0877048b0cd",
   "metadata": {},
   "outputs": [
    {
     "data": {
      "text/plain": [
       "4.84"
      ]
     },
     "execution_count": 13,
     "metadata": {},
     "output_type": "execute_result"
    }
   ],
   "source": [
    "8.2 - 3.36"
   ]
  },
  {
   "cell_type": "code",
   "execution_count": 14,
   "id": "c7f7c88b-699d-4245-ae61-d33db7e1da91",
   "metadata": {},
   "outputs": [
    {
     "name": "stdout",
     "output_type": "stream",
     "text": [
      "0.3648 kilogram 0.9003999999999999 kilogram 0.4496 kilogram\n"
     ]
    }
   ],
   "source": [
    "# tube densities and lengths\n",
    "\n",
    "cf35 = .251 * ur.kg / ur.m\n",
    "cf30 = .214 * ur.kg / ur.m\n",
    "cf25 = 0.178 * ur.kg / ur.m\n",
    "cf20 = 0.139 * ur.kg / ur.m\n",
    "cf15 = 0.101 * ur.kg / ur.m\n",
    "\n",
    "\n",
    "spineboom = ur.m*(0.8 * cf25 + 1.6 * cf20) # spine & boom\n",
    "mainspar = ur.m*(1.2 * cf35 + 2 * 1.4 * cf30) # main wing spar\n",
    "aftspar =  ur.m*(1.2 * cf20 + 2 * 1.4 * cf15) # aft wing spar\n",
    "\n",
    "print(spineboom, mainspar, aftspar)\n"
   ]
  },
  {
   "cell_type": "code",
   "execution_count": 15,
   "id": "f4270931-6245-4936-922a-ea012e3f3ba4",
   "metadata": {},
   "outputs": [
    {
     "data": {
      "text/html": [
       "0.8546701969343864 degree"
      ],
      "text/latex": [
       "$0.8546701969343864\\ \\mathrm{degree}$"
      ],
      "text/plain": [
       "<Quantity(0.854670197, 'degree')>"
      ]
     },
     "execution_count": 15,
     "metadata": {},
     "output_type": "execute_result"
    }
   ],
   "source": [
    "# beam calculations\n",
    "import numpy as np\n",
    "I = lambda do, di: np.pi / 4 * ((do/2)**4 - (di/2)**4)\n",
    "M = ((0.06 * 1/2 * rho * 20**2 * (ur.m/ur.s)**2 * 1.5 * ur.m**2 * 0.43 * ur.m).to(\"N*m\"))\n",
    "s20 = M * 10 * ur.mm / I(20 * ur.mm, 17*ur.mm)\n",
    "s15 = M * 7.5*ur.mm / I(15*ur.mm, 12*ur.mm)\n",
    "s15.to(\"MPa\")\n",
    "\n",
    "VM = 1 * ur.N * 0.35 * ur.m\n",
    "J = 2 * I(20 * ur.mm, 17 * ur.mm)\n",
    "G = 5 * ur.GPa\n",
    "# calculate the torsional deflection of the tail\n",
    "(VM * 1.6 * ur.m / (G * J)).to(\"rad\").to(\"deg\")\n",
    "\n"
   ]
  },
  {
   "cell_type": "code",
   "execution_count": 16,
   "id": "79df08ae-f98a-4ebb-97da-ebf601995ea8",
   "metadata": {},
   "outputs": [
    {
     "data": {
      "text/html": [
       "0.010240000000000003 kilogram"
      ],
      "text/latex": [
       "$0.010240000000000003\\ \\mathrm{kilogram}$"
      ],
      "text/plain": [
       "<Quantity(0.01024, 'kilogram')>"
      ]
     },
     "execution_count": 16,
     "metadata": {},
     "output_type": "execute_result"
    }
   ],
   "source": [
    "# Balsa wood calculation\n",
    "((0.08 * (0.4 * ur.m)**2 * 5 * ur.mm ) * (160 * ur.kg / ur.m**3)).to(ur.kg)"
   ]
  },
  {
   "cell_type": "code",
   "execution_count": 17,
   "id": "572ae2fe-e303-4c48-b9dd-2b06de844cf0",
   "metadata": {},
   "outputs": [
    {
     "data": {
      "text/html": [
       "0.12971328896 meter<sup>2</sup>"
      ],
      "text/latex": [
       "$0.12971328896\\ \\mathrm{meter}^{2}$"
      ],
      "text/plain": [
       "<Quantity(0.129713289, 'meter ** 2')>"
      ]
     },
     "execution_count": 17,
     "metadata": {},
     "output_type": "execute_result"
    }
   ],
   "source": [
    "# propeller diameter\n",
    "A = ((16 * ur.inch).to(\"mm\")**2 * 3.1415 / 4).to(\"m^2\")\n",
    "A"
   ]
  },
  {
   "cell_type": "code",
   "execution_count": 25,
   "id": "448cb167-0adc-4288-9c79-8ac03a0bfb29",
   "metadata": {},
   "outputs": [
    {
     "data": {
      "text/plain": [
       "'drag:'"
      ]
     },
     "metadata": {},
     "output_type": "display_data"
    },
    {
     "data": {
      "text/html": [
       "14.609447999999999 newton"
      ],
      "text/latex": [
       "$14.609447999999999\\ \\mathrm{newton}$"
      ],
      "text/plain": [
       "<Quantity(14.609448, 'newton')>"
      ]
     },
     "metadata": {},
     "output_type": "display_data"
    },
    {
     "data": {
      "text/plain": [
       "'range:'"
      ]
     },
     "metadata": {},
     "output_type": "display_data"
    },
    {
     "data": {
      "text/html": [
       "22.345622914705604 kilometer"
      ],
      "text/latex": [
       "$22.345622914705604\\ \\mathrm{kilometer}$"
      ],
      "text/plain": [
       "<Quantity(22.3456229, 'kilometer')>"
      ]
     },
     "execution_count": 25,
     "metadata": {},
     "output_type": "execute_result"
    }
   ],
   "source": [
    "# energy calculations\n",
    "V = 20 * ur.m / ur.s\n",
    "S = 1.5 * ur.m**2\n",
    "W = 8.2 * ur.kg * g\n",
    "q = 1/2 * rho * V**2\n",
    "CL = ((W / (q * S) )**0.5).to(\"\")\n",
    "CD0 = 0.03\n",
    "CD = CD0 + 0.044 * CL**2\n",
    "D = q * S * CD\n",
    "display(\"drag:\")\n",
    "display(D.to(\"N\"))\n",
    "battE = (7400 * ur.mAh * 22.2 * ur.V)\n",
    "eta = 0.69 * 0.8 # Slightly better calculation, 0.8 in the motor and 0.7 in the prop\n",
    "display(\"range:\")\n",
    "(battE * eta / D).to(\"km\")"
   ]
  },
  {
   "cell_type": "code",
   "execution_count": 19,
   "id": "7b810d60-e37c-4b1b-8489-57f932d3d604",
   "metadata": {},
   "outputs": [
    {
     "data": {
      "text/html": [
       "14.609447999999999 kilogram meter/second<sup>2</sup>"
      ],
      "text/latex": [
       "$14.609447999999999\\ \\frac{\\mathrm{kilogram} \\cdot \\mathrm{meter}}{\\mathrm{second}^{2}}$"
      ],
      "text/plain": [
       "<Quantity(14.609448, 'kilogram * meter / second ** 2')>"
      ]
     },
     "execution_count": 19,
     "metadata": {},
     "output_type": "execute_result"
    }
   ],
   "source": [
    "D "
   ]
  },
  {
   "cell_type": "code",
   "execution_count": 8,
   "id": "e99ee784-08b2-4599-9a16-ea899b0b1077",
   "metadata": {},
   "outputs": [
    {
     "data": {
      "text/html": [
       "0.9130904999999997 kilowatt"
      ],
      "text/latex": [
       "$0.9130904999999997\\ \\mathrm{kilowatt}$"
      ],
      "text/plain": [
       "<Quantity(0.9130905, 'kilowatt')>"
      ]
     },
     "metadata": {},
     "output_type": "display_data"
    }
   ],
   "source": [
    "pwr = (D * V / eta).to(\"kW\")\n",
    "display(pwr)"
   ]
  },
  {
   "cell_type": "code",
   "execution_count": 20,
   "id": "5f14529b-503b-4730-a6c5-12fe703bd629",
   "metadata": {},
   "outputs": [
    {
     "data": {
      "text/html": [
       "0.4578405225567414 dimensionless"
      ],
      "text/latex": [
       "$0.4578405225567414\\ \\mathrm{dimensionless}$"
      ],
      "text/plain": [
       "<Quantity(0.457840523, 'dimensionless')>"
      ]
     },
     "execution_count": 20,
     "metadata": {},
     "output_type": "execute_result"
    }
   ],
   "source": [
    "CT_pr = D / (1/2 * rho * V**2 * A)\n",
    "CT_pr"
   ]
  },
  {
   "cell_type": "code",
   "execution_count": 24,
   "id": "f86ababd-a2ce-4026-98e2-dc4265b63cf4",
   "metadata": {},
   "outputs": [],
   "source": [
    "alpha = (1 + (CT_pr + 1)**0.5)"
   ]
  },
  {
   "cell_type": "code",
   "execution_count": 29,
   "id": "38f974c0-92dd-44dd-adff-8dc15319e4b4",
   "metadata": {},
   "outputs": [
    {
     "data": {
      "text/html": [
       "0.7878599390460251 dimensionless"
      ],
      "text/latex": [
       "$0.7878599390460251\\ \\mathrm{dimensionless}$"
      ],
      "text/plain": [
       "<Quantity(0.787859939, 'dimensionless')>"
      ]
     },
     "execution_count": 29,
     "metadata": {},
     "output_type": "execute_result"
    }
   ],
   "source": [
    "# efficiency calculations from momentum theory (JOEMENTUM)\n",
    "power = 1/2 * D * V * alpha * 1.15\n",
    "D * V / power"
   ]
  },
  {
   "cell_type": "code",
   "execution_count": 10,
   "id": "b5accc08-ee86-4608-97be-51a8ded16769",
   "metadata": {},
   "outputs": [
    {
     "data": {
      "text/html": [
       "10.833333333333334 minute"
      ],
      "text/latex": [
       "$10.833333333333334\\ \\mathrm{minute}$"
      ],
      "text/plain": [
       "<Quantity(10.8333333, 'minute')>"
      ]
     },
     "execution_count": 10,
     "metadata": {},
     "output_type": "execute_result"
    }
   ],
   "source": [
    "# endurance calculation\n",
    "(13 * ur.km / V).to(\"min\")"
   ]
  },
  {
   "cell_type": "code",
   "execution_count": 97,
   "id": "55df43c9-083c-4914-8538-b1b3268e59b0",
   "metadata": {},
   "outputs": [
    {
     "data": {
      "text/html": [
       "35.1294748139586 degree/second"
      ],
      "text/latex": [
       "$35.1294748139586\\ \\frac{\\mathrm{degree}}{\\mathrm{second}}$"
      ],
      "text/plain": [
       "<Quantity(35.1294748, 'degree / second')>"
      ]
     },
     "execution_count": 97,
     "metadata": {},
     "output_type": "execute_result"
    }
   ],
   "source": [
    "(V / (2 * q / (g * rho * (1.5**2 - 1)))).to(\"deg/s\")"
   ]
  },
  {
   "cell_type": "code",
   "execution_count": 106,
   "id": "8530eb14-a7f5-4ebe-be47-4542cbb8a347",
   "metadata": {},
   "outputs": [
    {
     "data": {
      "text/html": [
       "19.646597171486896 degree"
      ],
      "text/latex": [
       "$19.646597171486896\\ \\mathrm{degree}$"
      ],
      "text/plain": [
       "<Quantity(19.6465972, 'degree')>"
      ]
     },
     "execution_count": 106,
     "metadata": {},
     "output_type": "execute_result"
    }
   ],
   "source": [
    "T = 1500 * 0.7 * 0.8 * ur.W / V\n",
    "(V * (T - D) / W).to(\"m/s\")\n",
    "(np.sin(7/20) * ur.rad).to(\"deg\")"
   ]
  },
  {
   "cell_type": "code",
   "execution_count": 79,
   "id": "bcc1ab29-ba38-4c71-b10f-5bea1a86851f",
   "metadata": {},
   "outputs": [
    {
     "data": {
      "text/html": [
       "591.408 kilojoule"
      ],
      "text/latex": [
       "$591.408\\ \\mathrm{kilojoule}$"
      ],
      "text/plain": [
       "<Quantity(591.408, 'kilojoule')>"
      ]
     },
     "execution_count": 79,
     "metadata": {},
     "output_type": "execute_result"
    }
   ],
   "source": [
    "battE"
   ]
  }
 ],
 "metadata": {
  "kernelspec": {
   "display_name": "Python 3 (ipykernel)",
   "language": "python",
   "name": "python3"
  },
  "language_info": {
   "codemirror_mode": {
    "name": "ipython",
    "version": 3
   },
   "file_extension": ".py",
   "mimetype": "text/x-python",
   "name": "python",
   "nbconvert_exporter": "python",
   "pygments_lexer": "ipython3",
   "version": "3.10.12"
  }
 },
 "nbformat": 4,
 "nbformat_minor": 5
}
