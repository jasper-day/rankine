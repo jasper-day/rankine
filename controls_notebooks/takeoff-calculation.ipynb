{
 "cells": [
  {
   "cell_type": "code",
   "execution_count": 112,
   "id": "7f479846-aafe-4f57-ac31-cd3e8cbb1384",
   "metadata": {},
   "outputs": [],
   "source": [
    "import jax.numpy as np\n",
    "from jax import random \n",
    "from jax import grad\n",
    "import seaborn as sns\n",
    "import matplotlib.pyplot as plt\n",
    "from pprint import pprint"
   ]
  },
  {
   "cell_type": "markdown",
   "id": "2fab158b-0d90-4844-abf4-56bb22738ee2",
   "metadata": {},
   "source": [
    "Quick notebook using analytic approximation for the ground roll of an aircraft to determine the necessary operating parameters for our airplane to be able to take off within the 10m bounding box.\n",
    "\n",
    "For references consult Raymer Conceptual Design p. 673 or Anderson Airplane Performance and Design p. 360\n",
    "\n",
    "The idea of using an autodifferentiation library is to determine the sensitivity of our solution to small changes in our operating assumptions. \n",
    "\n",
    "We will further extend this sensitivity analysis with Monte Carlo simulations to determine the likelihood of making the 10m bounding box."
   ]
  },
  {
   "cell_type": "code",
   "execution_count": 149,
   "id": "73236883-ddf0-4821-934a-26c3c9ed3117",
   "metadata": {},
   "outputs": [],
   "source": [
    "def KT(P, Vlo, W, mur):\n",
    "    T = P / (0.7 * Vlo)\n",
    "    return T / W - mur\n",
    "\n",
    "def KA(W, S, K, mur, cd0, CL):\n",
    "    rho = 1.23\n",
    "    return -rho  / (2 * W / S) * (K * CL**2 - mur * CL + cd0)\n",
    "\n",
    "def G(b, h):\n",
    "    n = (16 * h / b)**2 \n",
    "    return n / (1 + n)\n",
    "\n",
    "def K(k, G, e, AR):\n",
    "    return G / (np.pi * e * AR) + k\n",
    "\n",
    "def sg(KA, KT, Vlo):\n",
    "    return 1 / (2 * 9.81 * KA) * np.log(1 + KA / KT * Vlo**2)\n",
    "\n",
    "def Vlo(S, W, CL):\n",
    "    rho = 1.23\n",
    "    return np.sqrt(2 * W / (rho * S * CL)) \n",
    "\n",
    "def S(b, AR):\n",
    "    return b**2 / AR\n",
    "\n",
    "def W(m):\n",
    "    return 9.81 * m\n",
    "\n",
    "def calc_sg(CL, cd0, P, m, mur, b, AR, h, e, k):\n",
    "    _G = G(b, h)\n",
    "    _S = S(b, AR)\n",
    "    _W = W(m)\n",
    "    _Vlo = Vlo(_S, _W, CL)\n",
    "    _KT = KT(P, _Vlo, _W, mur)\n",
    "    _K = K(k, _G, e, AR)\n",
    "    _KA = KA(_W, _S, _K, mur, cd0, CL)\n",
    "    return sg(_KA, _KT, _Vlo)\n",
    "\n",
    "def sg_vec(x):\n",
    "    CL, cd0, P, m, mur, b, AR, h, e, k = x\n",
    "    return calc_sg(CL, cd0, P, m, mur, b, AR, h, e, k)\n",
    "\n",
    "def Vlo_vec(x):\n",
    "    CL, cd0, P, m, mur, b, AR, h, e, k = x\n",
    "    return Vlo(S(b, AR), W(m), CL)\n",
    "    "
   ]
  },
  {
   "cell_type": "code",
   "execution_count": 150,
   "id": "0589ed1d-abc4-4ef0-9385-f868ca4c290b",
   "metadata": {},
   "outputs": [
    {
     "data": {
      "text/plain": [
       "Array(8.967569, dtype=float32)"
      ]
     },
     "execution_count": 150,
     "metadata": {},
     "output_type": "execute_result"
    }
   ],
   "source": [
    "CL = 0.8\n",
    "cd0 = 0.08\n",
    "P = 900 * 0.8 * 0.4\n",
    "m = 7.7\n",
    "mur = 0.08\n",
    "b = 3\n",
    "AR = 6\n",
    "h = 0.5\n",
    "e = 0.9\n",
    "k = 0.01\n",
    "x0 = np.array([CL, cd0, P, 10, mur, b, 8, h, e, k])\n",
    "x = np.array([CL, cd0, P, m, mur, b, AR, h, e, k])\n",
    "x_P = np.array([CL, cd0, P*1.5, m+0.5, mur, b, AR, h, e, k])\n",
    "# absolute confidence intervals\n",
    "CI95 = np.array([0.1, 0.02, 100, 0.5, 0.02, 0.1, 0.1, 0.2, 0.07, 0.008])\n",
    "CI95_tight = np.array([0.05, 0.02, 50, 0.25, 0.02, 0.05, 0.1, 0.2, 0.07, 0.008])\n",
    "sg_vec(x_P)"
   ]
  },
  {
   "cell_type": "code",
   "execution_count": 152,
   "id": "6ac747fc-9ec7-44d5-9363-92a62adbc1ce",
   "metadata": {},
   "outputs": [
    {
     "data": {
      "text/plain": [
       "Array(8.260494, dtype=float32, weak_type=True)"
      ]
     },
     "execution_count": 152,
     "metadata": {},
     "output_type": "execute_result"
    }
   ],
   "source": [
    "Vlo(S(b, AR), W(m), 1.2)"
   ]
  },
  {
   "cell_type": "code",
   "execution_count": 61,
   "id": "3904b07d-7ac5-4497-b317-acef05f7f5c1",
   "metadata": {},
   "outputs": [
    {
     "data": {
      "text/plain": [
       "7.732999999999999"
      ]
     },
     "execution_count": 61,
     "metadata": {},
     "output_type": "execute_result"
    }
   ],
   "source": [
    "1.5 + 3.36 + 1 + 0.6 + 2 * (0.214 + 0.144 + 0.054) + (0.251 + 0.144 + 0.054)"
   ]
  },
  {
   "cell_type": "code",
   "execution_count": 137,
   "id": "5c8cdb45-2535-4f45-974c-e3276cfd1d03",
   "metadata": {},
   "outputs": [
    {
     "data": {
      "text/plain": [
       "Text(0.5, 0, 'Takeoff distance (m)')"
      ]
     },
     "execution_count": 137,
     "metadata": {},
     "output_type": "execute_result"
    },
    {
     "data": {
      "image/png": "[encoded data removed]",
      "text/plain": [
       "<Figure size 640x480 with 2 Axes>"
      ]
     },
     "metadata": {},
     "output_type": "display_data"
    }
   ],
   "source": [
    "(0.214 + 0.144 + 0.054 )*2 + 0.251 + 0.144 + 0.054\n",
    "\n",
    "# Monte Carlo simulations with the CI95\n",
    "\n",
    "# we do this because randomness isn't pure\n",
    "key = random.key(0)\n",
    "\n",
    "def random_vector(key, x, CI95, n_samples):\n",
    "    shape = (n_samples, len(x))\n",
    "    std_dev = CI95 / 1.96\n",
    "    return (std_dev * random.normal(key, shape=shape) + x).T\n",
    "\n",
    "X = random_vector(key, x_P, CI95, 10000)\n",
    "key, subkey = random.split(key)\n",
    "X_tight = random_vector(subkey, x_P, CI95_tight, 10000)\n",
    "\n",
    "monte_carlo = sg_vec(X)\n",
    "monte_carlo_tight = sg_vec(X_tight)\n",
    "\n",
    "sns.set_theme(style=\"whitegrid\")\n",
    "\n",
    "ax0 = plt.subplot(211)\n",
    "sns.pointplot(x=monte_carlo, errorbar=(\"pi\", 95), ax=ax0)\n",
    "sns.pointplot(x=monte_carlo_tight, errorbar=(\"pi\", 95), ax=ax0)\n",
    "ax1 = plt.subplot(212, sharex=ax0)\n",
    "sns.histplot(x=monte_carlo, kde=True, ax=ax1)\n",
    "sns.histplot(x=monte_carlo_tight, kde=True, ax=ax1)\n",
    "plt.xlabel(\"Takeoff distance (m)\")"
   ]
  },
  {
   "cell_type": "code",
   "execution_count": 139,
   "id": "5dfa4cb7-202d-4541-8006-df6b549f0f7c",
   "metadata": {},
   "outputs": [
    {
     "name": "stdout",
     "output_type": "stream",
     "text": [
      "3119\n",
      "1549\n"
     ]
    }
   ],
   "source": [
    "print(len(monte_carlo[monte_carlo > 10]))\n",
    "print(len(monte_carlo_tight[monte_carlo_tight > 10]))"
   ]
  },
  {
   "cell_type": "code",
   "execution_count": 141,
   "id": "3e5e364d-5858-4f84-a74f-874ded61a524",
   "metadata": {},
   "outputs": [
    {
     "name": "stdout",
     "output_type": "stream",
     "text": [
      "CL: 0.80 +/- 0.05\n",
      "cd0: 0.08 +/- 0.02\n",
      "P: 432.00 +/- 50.00\n",
      "m: 8.20 +/- 0.25\n",
      "mur: 0.08 +/- 0.02\n",
      "b: 3.00 +/- 0.05\n",
      "AR: 6.00 +/- 0.10\n",
      "h: 0.50 +/- 0.20\n",
      "e: 0.90 +/- 0.07\n",
      "k: 0.01 +/- 0.01\n",
      "Takeoff distance 8.967569 m\n"
     ]
    },
    {
     "data": {
      "text/plain": [
       "<Axes: xlabel='Theoretical effect (m)', ylabel='name'>"
      ]
     },
     "execution_count": 141,
     "metadata": {},
     "output_type": "execute_result"
    },
    {
     "data": {
      "image/png": "[encoded data removed]",
      "text/plain": [
       "<Figure size 640x480 with 1 Axes>"
      ]
     },
     "metadata": {},
     "output_type": "display_data"
    }
   ],
   "source": [
    "\n",
    "\n",
    "\n",
    "names = [\"CL\", \"cd0\", \"P\", \"m\", \"mur\", \"b\", \"AR\", \"h\", \"e\", \"k\"]\n",
    "ds = grad(sg_vec)(x_P)\n",
    "sensitivities = {\"name\": names, \"Theoretical effect (m)\": np.abs(ds * CI95_tight)}\n",
    "\n",
    "print(\"\\n\".join([f\"{name}: {val:.2f} +/- {ci95:.2f}\"  for name, val, ci95 in zip(names, x_P, CI95_tight)]))\n",
    "\n",
    "print(\"Takeoff distance\", sg_vec(x_P), \"m\")\n",
    "\n",
    "sns.barplot(sensitivities, y=\"name\", x=\"Theoretical effect (m)\")"
   ]
  },
  {
   "cell_type": "code",
   "execution_count": 145,
   "id": "3d5aa15b-2e72-46d9-8095-59c36acc93ff",
   "metadata": {},
   "outputs": [
    {
     "data": {
      "text/plain": [
       "Array(-20., dtype=float32, weak_type=True)"
      ]
     },
     "execution_count": 145,
     "metadata": {},
     "output_type": "execute_result"
    }
   ],
   "source": [
    "-10 / grad(S)(float(b), float(AR)) + 2.5 / grad(S, 1)(float(b), float(AR) )"
   ]
  },
  {
   "cell_type": "code",
   "execution_count": null,
   "id": "3457eb43-a9ff-4c2b-84b3-73ae45584517",
   "metadata": {},
   "outputs": [],
   "source": []
  },
  {
   "cell_type": "code",
   "execution_count": null,
   "id": "d48582d0-cfdd-4214-9cf4-23f96ea5ed38",
   "metadata": {},
   "outputs": [],
   "source": []
  },
  {
   "cell_type": "code",
   "execution_count": 5,
   "id": "32ea146d-4c93-494c-bb05-1adcadec699a",
   "metadata": {},
   "outputs": [
    {
     "data": {
      "text/plain": [
       "Array([-8.320621  ,  0.        ,  0.        ,  0.6656496 ,  0.        ,\n",
       "       -4.4376645 ,  0.83206207,  0.        ,  0.        ,  0.        ],      dtype=float32)"
      ]
     },
     "execution_count": 5,
     "metadata": {},
     "output_type": "execute_result"
    }
   ],
   "source": [
    "Vlo_vec(x)\n",
    "grad(Vlo_vec)(x)"
   ]
  },
  {
   "cell_type": "code",
   "execution_count": 33,
   "id": "c5b16afe-9bc4-4b31-84c5-8c1b61e44ebd",
   "metadata": {},
   "outputs": [
    {
     "data": {
      "text/plain": [
       "Array(14.7839775, dtype=float32, weak_type=True)"
      ]
     },
     "execution_count": 33,
     "metadata": {},
     "output_type": "execute_result"
    }
   ],
   "source": [
    "calc_sg(CL, cd0, P, m - 3, mur, b, AR, h, e, k)\n",
    "# Vlo(S(b, AR), W(m-3), CL)"
   ]
  },
  {
   "cell_type": "code",
   "execution_count": 13,
   "id": "f1d99455-9450-4dc8-a4a8-5838243a0c5a",
   "metadata": {},
   "outputs": [
    {
     "data": {
      "text/plain": [
       "37.40259740259741"
      ]
     },
     "execution_count": 13,
     "metadata": {},
     "output_type": "execute_result"
    }
   ],
   "source": [
    "P / (0.7 * 11)"
   ]
  },
  {
   "cell_type": "code",
   "execution_count": 14,
   "id": "a1fdc1a6-0d51-471f-aa37-d87b02f846e6",
   "metadata": {},
   "outputs": [],
   "source": [
    "def get_suvat(m, P, v):\n",
    "    F = P/(0.7 * v)\n",
    "    a = F / m\n",
    "    return v**2 / (2 * a)"
   ]
  },
  {
   "cell_type": "code",
   "execution_count": 49,
   "id": "6fb93367-6c74-484d-9425-b23652df42cd",
   "metadata": {},
   "outputs": [
    {
     "data": {
      "text/plain": [
       "7.526399999999999"
      ]
     },
     "execution_count": 49,
     "metadata": {},
     "output_type": "execute_result"
    }
   ],
   "source": [
    "get_suvat(m, P, 9.6)"
   ]
  },
  {
   "cell_type": "code",
   "execution_count": 28,
   "id": "33f7ae9b-8a88-4b03-91ee-da3c694e1c63",
   "metadata": {},
   "outputs": [
    {
     "data": {
      "text/plain": [
       "Array(-8560.633, dtype=float32, weak_type=True)"
      ]
     },
     "execution_count": 28,
     "metadata": {},
     "output_type": "execute_result"
    }
   ],
   "source": [
    "grad(sg,0)(3.8e-4, 0.25, 13.0)"
   ]
  },
  {
   "cell_type": "code",
   "execution_count": null,
   "id": "8a318ca3-abcf-47a9-8d66-90a8dc8f412d",
   "metadata": {},
   "outputs": [],
   "source": []
  }
 ],
 "metadata": {
  "kernelspec": {
   "display_name": "Python 3 (ipykernel)",
   "language": "python",
   "name": "python3"
  },
  "language_info": {
   "codemirror_mode": {
    "name": "ipython",
    "version": 3
   },
   "file_extension": ".py",
   "mimetype": "text/x-python",
   "name": "python",
   "nbconvert_exporter": "python",
   "pygments_lexer": "ipython3",
   "version": "3.10.12"
  }
 },
 "nbformat": 4,
 "nbformat_minor": 5
}
